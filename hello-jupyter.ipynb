{
 "cells": [
  {
   "cell_type": "markdown",
   "id": "f1fd5ff2-49df-4b86-9201-1fa237acee0d",
   "metadata": {},
   "source": [
    "Welcome to **Jupyter** and play with this for DS practice"
   ]
  },
  {
   "cell_type": "markdown",
   "id": "4e4ed879-5f5e-4999-a641-4d2665810507",
   "metadata": {},
   "source": [
    "### Introduction to Data Science Languages\n",
    "\n",
    "In the field of data science, various programming languages are commonly used for data analysis, machine learning, and statistical computing. Here's a list of some popular data science languages:\n",
    "\n",
    "1. Python\n",
    "2. R\n",
    "3. SQL\n",
    "4. Julia\n",
    "5. MATLAB\n"
   ]
  },
  {
   "cell_type": "markdown",
   "id": "bdf86384-b632-46b3-bcc7-d617d8d47abd",
   "metadata": {},
   "source": [
    "### Introduction to Data Science Libraries\n",
    "\n",
    "In the field of data science, there are numerous libraries available in various programming languages to facilitate tasks such as data manipulation, visualization, and machine learning. Here's a list of some popular data science libraries:\n",
    "\n",
    "1. Python:\n",
    "    - NumPy\n",
    "    - pandas\n",
    "    - Matplotlib\n",
    "    - Seaborn\n",
    "    - Scikit-learn\n",
    "2. R:\n",
    "    - dplyr\n",
    "    - ggplot2\n",
    "    - caret\n",
    "3. Julia:\n",
    "    - DataFrames\n",
    "    - Plots\n",
    "    - Flux\n",
    "4. MATLAB:\n",
    "    - Statistics and Machine Learning Toolbox\n",
    "    - Image Processing Toolbox\n"
   ]
  },
  {
   "cell_type": "markdown",
   "id": "5432812a-58fb-4543-a4d7-5ab8b7a41048",
   "metadata": {},
   "source": [
    "### Data Science Tools\n",
    "\n",
    "| Language   | Libraries/Tools         |\n",
    "|------------|-------------------------|\n",
    "| Python     | - NumPy<br>- pandas<br>- Matplotlib<br>- Scikit-learn |\n",
    "| R          | - dplyr<br>- ggplot2<br>- caret |\n",
    "| Julia      | - DataFrames<br>- Plots<br>- Flux |\n",
    "| MATLAB     | - Statistics and Machine Learning Toolbox<br>- Image Processing Toolbox |\n"
   ]
  },
  {
   "cell_type": "markdown",
   "id": "dad2e7f8-279b-4ac1-9a02-14b1bb321517",
   "metadata": {},
   "source": [
    "### Introduction to Arithmetic Expression Examples\n",
    "\n",
    "Arithmetic expressions are fundamental in mathematics and programming. They involve mathematical operations such as addition, subtraction, multiplication, and division. Below are some examples of arithmetic expressions:\n",
    "\n",
    "- Addition: `2 + 3`\n",
    "- Subtraction: `5 - 2`\n",
    "- Multiplication: `4 * 6`\n",
    "- Division: `8 / 2`\n"
   ]
  },
  {
   "cell_type": "code",
   "execution_count": 6,
   "id": "a11f65e5-bc13-4fc3-af8b-5577f8cc1cef",
   "metadata": {},
   "outputs": [
    {
     "name": "stdout",
     "output_type": "stream",
     "text": [
      "Product: 15\n",
      "Sum: 17\n"
     ]
    }
   ],
   "source": [
    "# Multiply two numbers\n",
    "num1 = 5\n",
    "num2 = 3\n",
    "product = num1 * num2\n",
    "print(\"Product:\", product)\n",
    "\n",
    "# Add two numbers\n",
    "num3 = 10\n",
    "num4 = 7\n",
    "sum = num3 + num4\n",
    "print(\"Sum:\", sum)\n"
   ]
  },
  {
   "cell_type": "code",
   "execution_count": 7,
   "id": "195f7165-0da1-416b-ab0b-aea32a6a2c5e",
   "metadata": {},
   "outputs": [
    {
     "name": "stdout",
     "output_type": "stream",
     "text": [
      "150 minutes is equal to 2.5 hours\n"
     ]
    }
   ],
   "source": [
    "# Define the number of minutes\n",
    "minutes = 150\n",
    "\n",
    "# Convert minutes to hours\n",
    "hours = minutes / 60\n",
    "\n",
    "# Print the result\n",
    "print(minutes, \"minutes is equal to\", hours, \"hours\")\n"
   ]
  },
  {
   "cell_type": "markdown",
   "id": "3c7e32b5-47e7-4ca0-88eb-ef71e1d418af",
   "metadata": {},
   "source": [
    "### Introduction to Unordered Lists\n",
    "\n",
    "In Markdown, you can create unordered lists using asterisks (*), dashes (-), or plus signs (+) followed by a space. Here's an example of an unordered list:\n",
    "\n",
    "* Item 1\n",
    "* Item 2\n",
    "* Item 3\n"
   ]
  },
  {
   "cell_type": "markdown",
   "id": "33415965-436e-4e59-9f53-a5d3f29d4366",
   "metadata": {},
   "source": [
    "### Author\n",
    "Pratim\n"
   ]
  },
  {
   "cell_type": "code",
   "execution_count": null,
   "id": "546d8248-96b1-4108-bd7c-4decc6f3aebd",
   "metadata": {},
   "outputs": [],
   "source": []
  }
 ],
 "metadata": {
  "kernelspec": {
   "display_name": "Python 3 (ipykernel)",
   "language": "python",
   "name": "python3"
  },
  "language_info": {
   "codemirror_mode": {
    "name": "ipython",
    "version": 3
   },
   "file_extension": ".py",
   "mimetype": "text/x-python",
   "name": "python",
   "nbconvert_exporter": "python",
   "pygments_lexer": "ipython3",
   "version": "3.8.19"
  }
 },
 "nbformat": 4,
 "nbformat_minor": 5
}
